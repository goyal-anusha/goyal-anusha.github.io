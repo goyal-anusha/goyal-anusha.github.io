{
 "cells": [
  {
   "cell_type": "code",
   "execution_count": 1,
   "metadata": {
    "id": "JRmfW9x7chZZ"
   },
   "outputs": [],
   "source": [
    "#Import the important packages\n",
    "import pandas as pd\n",
    "from flask import Flask, request, render_template, jsonify\n",
    "import json\n",
    "from datetime import datetime, timedelta\n",
    "import requests\n",
    "import psycopg2\n",
    "from psycopg2.extras import execute_values\n",
    "import os\n",
    "import sys\n",
    "from pymongo import MongoClient"
   ]
  },
  {
   "cell_type": "code",
   "execution_count": 2,
   "metadata": {},
   "outputs": [],
   "source": [
    "#Start the flask\n",
    "app = Flask(__name__)"
   ]
  },
  {
   "cell_type": "code",
   "execution_count": 3,
   "metadata": {},
   "outputs": [],
   "source": [
    "#Import all the necessary data files\n",
    "user_file_path = \"/Users/anusha/Downloads/Netflix_Userbase.csv\"\n",
    "user_dataset = pd.read_csv(user_file_path)\n",
    "user_dataset['last_payment'] = pd.to_datetime(user_dataset['last_payment'], format='%d-%m-%y')\n",
    "user_dataset['Join_Date'] = pd.to_datetime(user_dataset['Join_Date'], format='%d-%m-%y')\n",
    "columns_to_keep = ['UserID', 'SubscriptionType', 'Join_Date', 'last_payment']\n",
    "user_dataset = user_dataset[columns_to_keep]\n",
    "\n",
    "art_locations = pd.read_csv('/Users/anusha/Desktop/Columbia School/Managing Data/pois.csv')"
   ]
  },
  {
   "cell_type": "code",
   "execution_count": 4,
   "metadata": {},
   "outputs": [],
   "source": [
    "#Home Screen that brings the user to a welcome page\n",
    "@app.route('/')\n",
    "def home():\n",
    "    return f\"Welcome to Craze\""
   ]
  },
  {
   "cell_type": "code",
   "execution_count": 5,
   "metadata": {},
   "outputs": [
    {
     "name": "stdout",
     "output_type": "stream",
     "text": [
      "Error:  duplicate key value violates unique constraint \"users_pkey\"\n",
      "DETAIL:  Key (userid)=(1) already exists.\n",
      "\n"
     ]
    }
   ],
   "source": [
    "#Use Postgres to understand if the user has paid their subscription\n",
    "#Create the table for user information\n",
    "@app.route('/user')\n",
    "def user_create():\n",
    "    try:\n",
    "        conn = psycopg2.connect(\"dbname='a_2_db' user='postgres' host='localhost' password='123'\")\n",
    "        cur = conn.cursor()\n",
    "        \n",
    "        createCmd = \"\"\"\n",
    "        CREATE TABLE IF NOT EXISTS Users (\n",
    "            UserID SERIAL PRIMARY KEY,\n",
    "            SubscriptionType VARCHAR(255),\n",
    "            Join_Date DATE,\n",
    "            last_payment DATE\n",
    "        );\n",
    "        \"\"\"\n",
    "        cur.execute(createCmd)\n",
    "        conn.commit()\n",
    "        \n",
    "    except Exception as e:\n",
    "        return str(e)\n",
    "    finally:\n",
    "        cur.close()\n",
    "        conn.close()\n",
    "    \n",
    "    return \"Fetched data successfully.\"\n",
    "\n",
    "#Insert the data from the dataset to the table\n",
    "def insert_data_from_df(df):\n",
    "    conn = psycopg2.connect(\"dbname='a_2_db' user='postgres' host='localhost' password='123'\")\n",
    "    cur = conn.cursor()\n",
    "    try:\n",
    "        tuples = [tuple(x) for x in df.to_numpy()]\n",
    "        cols = ','.join(list(df.columns))\n",
    "        query = \"INSERT INTO Users (%s) VALUES %%s\" % cols\n",
    "        execute_values(cur, query, tuples)\n",
    "        conn.commit()\n",
    "    except Exception as e:\n",
    "        print(\"Error: \", e)\n",
    "    finally:\n",
    "        cur.close()\n",
    "        conn.close()\n",
    "        \n",
    "@app.route(\"/redirect-internal\", methods=[\"GET\"])\n",
    "def redirect_internal():\n",
    "    return redirect(\"/landing\", code=302)        \n",
    "\n",
    "# Call the function\n",
    "insert_data_from_df(user_dataset)\n",
    "\n",
    "#Create a function to check user's payment that defaults to 24 if needed\n",
    "def check_payment_status(user_number = 24):\n",
    "    try:\n",
    "        conn = psycopg2.connect(\"dbname='a_2_db' user='postgres' host='localhost' password='123'\")\n",
    "        cur = conn.cursor()\n",
    "        \n",
    "        # Query to get the last payment date for the user\n",
    "        cur.execute(\"SELECT last_payment FROM Users WHERE UserID = %s\", (user_number,))\n",
    "        last_payment = cur.fetchone()\n",
    "        if last_payment is None:\n",
    "            return \"User not found\"\n",
    "\n",
    "        last_payment_date = last_payment[0]  # assuming last_payment is not None\n",
    "        today = datetime.today().date()\n",
    "        one_month_timedelta = timedelta(days=30)\n",
    "\n",
    "        # Calculate if payment is pending\n",
    "        payment_pending = (today - last_payment_date).days > 30\n",
    "\n",
    "        return \"Cannot continue as payment is pending for your account\" if payment_pending else \"Welcome back!\"\n",
    "    except Exception as e:\n",
    "        return str(e)\n",
    "    finally:\n",
    "        cur.close()\n",
    "        conn.close()\n",
    "        \n",
    " #When the user_id is called we return the correct message       \n",
    "@app.route('/user/<int:user_number>')\n",
    "def user(user_number):\n",
    "    message = check_payment_status(user_number)\n",
    "    return message\n",
    "\n"
   ]
  },
  {
   "cell_type": "code",
   "execution_count": 6,
   "metadata": {},
   "outputs": [],
   "source": [
    "#Running an API from Meetup with PySpark\n",
    "    #The Meetup API is through GraphSQL therefore cannot be demoed without a third party client easily. \n",
    "    #However the following is the code that would call the API based on a user's location choice and provide a list of meetup events in the region specified\n",
    "@app.route('/search_events', methods=['GET'])\n",
    "def search_events():\n",
    "    # Ensure location is provided as a query parameter\n",
    "    location = request.args.get('location')\n",
    "    if not location:\n",
    "        return jsonify({\"error\": \"No location specified\"}), 400\n",
    "\n",
    "    API_KEY = 'u5sjebnqn9upnue9qbbkhhcq67'\n",
    "\n",
    "    url = f'https://api.meetup.com/find/events?key={API_KEY}&sign=true&photo-host=public&location={location}'\n",
    "\n",
    "    # Function to make API request\n",
    "    try:\n",
    "        response = requests.get(url)\n",
    "        if response.status_code == 200:\n",
    "            events_data = response.json()\n",
    "            events_output = []\n",
    "            for event in events_data:\n",
    "                if 'name' in event and 'venue' in event and 'address_1' in event['venue'] and 'local_date' in event:\n",
    "                    events_output.append({\n",
    "                        'name': event['name'],\n",
    "                        'address': event['venue']['address_1'],\n",
    "                        'date': event['local_date']\n",
    "                    })\n",
    "            return jsonify(events_output)\n",
    "        else:\n",
    "            return jsonify({\"error\": \"Failed to fetch events\"}), 500\n",
    "    except requests.exceptions.RequestException as e:\n",
    "        return jsonify({\"error\": str(e)}), 500"
   ]
  },
  {
   "cell_type": "code",
   "execution_count": 7,
   "metadata": {},
   "outputs": [],
   "source": [
    "#Use Mongo to parse the POIs in NYC to find arts centers for the user\n",
    "    #This example takes a dataset pulled from OSM of POIs\n",
    "@app.route('/arts_locations')\n",
    "def arts_locations():\n",
    "    client = MongoClient('mongodb://localhost:27017/')\n",
    "    db = client['managing_data_db']\n",
    "    collection = db['locations']\n",
    "\n",
    "    # Check if the collection is empty\n",
    "    if collection.count_documents({}) == 0:\n",
    "        locations_data = art_locations.to_dict(orient='records')\n",
    "        collection.insert_many(locations_data)\n",
    "\n",
    "    # Retrieve only the names of the arts centers\n",
    "    arts_centers = collection.find({\"fclass\": \"arts_centre\"}, {\"name\": 1, \"_id\": 0})\n",
    "\n",
    "    results = [center['name'] for center in arts_centers]  # Extracting names from the query results\n",
    "\n",
    "    return jsonify(results)"
   ]
  },
  {
   "cell_type": "code",
   "execution_count": null,
   "metadata": {},
   "outputs": [
    {
     "name": "stdout",
     "output_type": "stream",
     "text": [
      " * Serving Flask app '__main__'\n",
      " * Debug mode: off\n"
     ]
    },
    {
     "name": "stderr",
     "output_type": "stream",
     "text": [
      "WARNING: This is a development server. Do not use it in a production deployment. Use a production WSGI server instead.\n",
      " * Running on http://localhost:5032\n",
      "Press CTRL+C to quit\n",
      "127.0.0.1 - - [25/Apr/2024 02:42:52] \"GET / HTTP/1.1\" 200 -\n",
      "127.0.0.1 - - [25/Apr/2024 02:42:59] \"GET /user HTTP/1.1\" 200 -\n",
      "127.0.0.1 - - [25/Apr/2024 02:43:10] \"GET /user/24 HTTP/1.1\" 200 -\n",
      "127.0.0.1 - - [25/Apr/2024 02:43:33] \"GET /search_events HTTP/1.1\" 400 -\n",
      "127.0.0.1 - - [25/Apr/2024 02:44:03] \"GET /arts_locations HTTP/1.1\" 200 -\n"
     ]
    }
   ],
   "source": [
    "app.run(host='localhost', port=5032)\n",
    "\n",
    "if __name__ == \"__main__\":  \n",
    "    app.run(debug=True)"
   ]
  }
 ],
 "metadata": {
  "colab": {
   "provenance": []
  },
  "kernelspec": {
   "display_name": "Python 3 (ipykernel)",
   "language": "python",
   "name": "python3"
  },
  "language_info": {
   "codemirror_mode": {
    "name": "ipython",
    "version": 3
   },
   "file_extension": ".py",
   "mimetype": "text/x-python",
   "name": "python",
   "nbconvert_exporter": "python",
   "pygments_lexer": "ipython3",
   "version": "3.11.5"
  }
 },
 "nbformat": 4,
 "nbformat_minor": 1
}
